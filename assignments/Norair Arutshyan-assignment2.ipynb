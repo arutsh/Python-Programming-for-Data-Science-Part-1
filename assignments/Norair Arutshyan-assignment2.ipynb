{
 "cells": [
  {
   "cell_type": "markdown",
   "metadata": {},
   "source": [
    "# Second Assignment: Exercise and a Personal Project"
   ]
  },
  {
   "cell_type": "markdown",
   "metadata": {},
   "source": [
    "In this second and final assignment you have the opportunity to choose a dataset and perform data analysis to answer the type of questions that interest you or will utilise a technique that you want to gain experience in. \n",
    "\n",
    "You may wish to select a dataset that we have already looked at (e.g. Titanic, or IMDB), or select another open-source dataset from Kaggle (or other). Once you've selected a dataset to investigate, proceed to complete the template cells below. In the markdown cells, you should provide a brief introduction to the dataset, and write the questions that you will investigate. Then use the code cells to answer the questions you select.\n",
    "\n",
    "### Logistics\n",
    "\n",
    "**Deadline.** Please see the Assessment deadline in specified in Canvas. Late submissions will not be accepted. This notebook is the Second of two Assignments for this course.\n",
    "\n",
    "**The Assignment Task.** This Second Assignment portfolio will account for the remaining 70 points of the 100 (Assignment 1 was worth 30 marks). This Second Assignment features two parts: \n",
    "* Part 1 is out of 20 marks, based on a defined set of problems. This will extend your application of numpy, pandas, and matplotlib on the iris dataset. \n",
    "* Part 2 is out of 50 marks, and requires you to perform exploratory data analysis on a dataset of your choice. You should start by selecting a dataset and acquiring the data. Describe the context of the dataset with commentary and descriptive statistics. Then you should choose three questions to ask of the dataset and then outline how to answer them. Where appropriate, seek to display the results with an appropriate plot.\n",
    "\n",
    "**Submission.** Please email your solutions and your completed Declaration of Authorship (DoA) form to weeklyclasses@conted.ox.ac.uk "
   ]
  },
  {
   "cell_type": "markdown",
   "metadata": {},
   "source": [
    "# Part 1 (Set Exercise) (out of 20 marks)\n",
    "\n",
    "In this first part of Assignment 2, you are asked to continue work on the Iris dataset and further utilise libraries such as NumPy, Pandas and Matplotlib."
   ]
  },
  {
   "cell_type": "markdown",
   "metadata": {},
   "source": [
    "### Set up cells"
   ]
  },
  {
   "cell_type": "code",
   "execution_count": 1,
   "metadata": {},
   "outputs": [],
   "source": [
    "## Let's import the libraries we are going to use later on\n",
    "import numpy as np\n",
    "import pandas as pd\n",
    "import matplotlib.pyplot as plt\n",
    "\n",
    "# Let's set the precision for NumPy and Pandas\n",
    "np.set_printoptions(precision=3)\n",
    "pd.options.display.float_format = '{:,.2f}'.format"
   ]
  },
  {
   "cell_type": "markdown",
   "metadata": {},
   "source": [
    "### Import iris dataset "
   ]
  },
  {
   "cell_type": "code",
   "execution_count": 2,
   "metadata": {},
   "outputs": [],
   "source": [
    "# Input:\n",
    "# Import iris keeping the text column intact\n",
    "url = 'https://archive.ics.uci.edu/ml/machine-learning-databases/iris/iris.data'\n",
    "iris = np.genfromtxt(url, delimiter=',', \n",
    "                     names=['sepal length', 'sepal width', 'petal length', 'petal width', 'species'],\n",
    "                     dtype=[np.float32, np.float32, np.float32, np.float32, '|S15']\n",
    ")"
   ]
  },
  {
   "cell_type": "markdown",
   "metadata": {},
   "source": [
    "### 1A. Produce some descriptive statistics for the iris dataset (5 marks)\n",
    "\n",
    "For example, display the count of records, mean, std, min, max and in addtion to the quartiles for each of the columns."
   ]
  },
  {
   "cell_type": "code",
   "execution_count": 3,
   "metadata": {},
   "outputs": [
    {
     "data": {
      "text/html": [
       "<div>\n",
       "<style scoped>\n",
       "    .dataframe tbody tr th:only-of-type {\n",
       "        vertical-align: middle;\n",
       "    }\n",
       "\n",
       "    .dataframe tbody tr th {\n",
       "        vertical-align: top;\n",
       "    }\n",
       "\n",
       "    .dataframe thead th {\n",
       "        text-align: right;\n",
       "    }\n",
       "</style>\n",
       "<table border=\"1\" class=\"dataframe\">\n",
       "  <thead>\n",
       "    <tr style=\"text-align: right;\">\n",
       "      <th></th>\n",
       "      <th>sepal_length</th>\n",
       "      <th>sepal_width</th>\n",
       "      <th>petal_length</th>\n",
       "      <th>petal_width</th>\n",
       "    </tr>\n",
       "  </thead>\n",
       "  <tbody>\n",
       "    <tr>\n",
       "      <th>count</th>\n",
       "      <td>150.00</td>\n",
       "      <td>150.00</td>\n",
       "      <td>150.00</td>\n",
       "      <td>150.00</td>\n",
       "    </tr>\n",
       "    <tr>\n",
       "      <th>mean</th>\n",
       "      <td>5.84</td>\n",
       "      <td>3.05</td>\n",
       "      <td>3.76</td>\n",
       "      <td>1.20</td>\n",
       "    </tr>\n",
       "    <tr>\n",
       "      <th>std</th>\n",
       "      <td>0.83</td>\n",
       "      <td>0.43</td>\n",
       "      <td>1.76</td>\n",
       "      <td>0.76</td>\n",
       "    </tr>\n",
       "    <tr>\n",
       "      <th>min</th>\n",
       "      <td>4.30</td>\n",
       "      <td>2.00</td>\n",
       "      <td>1.00</td>\n",
       "      <td>0.10</td>\n",
       "    </tr>\n",
       "    <tr>\n",
       "      <th>25%</th>\n",
       "      <td>5.10</td>\n",
       "      <td>2.80</td>\n",
       "      <td>1.60</td>\n",
       "      <td>0.30</td>\n",
       "    </tr>\n",
       "    <tr>\n",
       "      <th>50%</th>\n",
       "      <td>5.80</td>\n",
       "      <td>3.00</td>\n",
       "      <td>4.35</td>\n",
       "      <td>1.30</td>\n",
       "    </tr>\n",
       "    <tr>\n",
       "      <th>75%</th>\n",
       "      <td>6.40</td>\n",
       "      <td>3.30</td>\n",
       "      <td>5.10</td>\n",
       "      <td>1.80</td>\n",
       "    </tr>\n",
       "    <tr>\n",
       "      <th>max</th>\n",
       "      <td>7.90</td>\n",
       "      <td>4.40</td>\n",
       "      <td>6.90</td>\n",
       "      <td>2.50</td>\n",
       "    </tr>\n",
       "  </tbody>\n",
       "</table>\n",
       "</div>"
      ],
      "text/plain": [
       "       sepal_length  sepal_width  petal_length  petal_width\n",
       "count        150.00       150.00        150.00       150.00\n",
       "mean           5.84         3.05          3.76         1.20\n",
       "std            0.83         0.43          1.76         0.76\n",
       "min            4.30         2.00          1.00         0.10\n",
       "25%            5.10         2.80          1.60         0.30\n",
       "50%            5.80         3.00          4.35         1.30\n",
       "75%            6.40         3.30          5.10         1.80\n",
       "max            7.90         4.40          6.90         2.50"
      ]
     },
     "execution_count": 3,
     "metadata": {},
     "output_type": "execute_result"
    }
   ],
   "source": [
    "# Write your solution here.\n",
    "iris_df = pd.DataFrame(iris)\n",
    "iris_df.describe()"
   ]
  },
  {
   "cell_type": "markdown",
   "metadata": {},
   "source": [
    "### 1B. Calculate the maximum petal width for each species of flower (5 marks)"
   ]
  },
  {
   "cell_type": "code",
   "execution_count": 4,
   "metadata": {},
   "outputs": [
    {
     "data": {
      "text/plain": [
       "species\n",
       "b'Iris-setosa'       0.60\n",
       "b'Iris-versicolor'   1.80\n",
       "b'Iris-virginica'    2.50\n",
       "Name: petal_width, dtype: float32"
      ]
     },
     "execution_count": 4,
     "metadata": {},
     "output_type": "execute_result"
    }
   ],
   "source": [
    "# Write your solution here.\n",
    "\n",
    "iris_df.groupby(['species']).petal_width.max()\n"
   ]
  },
  {
   "cell_type": "markdown",
   "metadata": {},
   "source": [
    "### 1C. Data Visualisation (5 marks)\n",
    "\n",
    "Produce a boxplot for each of the four columns of the iris dataset (sepal_length, sepal_width, petal_length and petal_width) in addition to the volume column (if you completed Assignment 1)."
   ]
  },
  {
   "cell_type": "code",
   "execution_count": 5,
   "metadata": {},
   "outputs": [
    {
     "name": "stdout",
     "output_type": "stream",
     "text": [
      "     sepal_length  sepal_width  petal_length  petal_width             species\n",
      "149          5.90         3.00          5.10         1.80   b'Iris-virginica'\n",
      "4            5.00         3.60          1.40         0.20      b'Iris-setosa'\n",
      "30           4.80         3.10          1.60         0.20      b'Iris-setosa'\n",
      "96           5.70         2.90          4.20         1.30  b'Iris-versicolor'\n",
      "32           5.20         4.10          1.50         0.10      b'Iris-setosa'\n",
      "<class 'pandas.core.frame.DataFrame'>\n",
      "RangeIndex: 150 entries, 0 to 149\n",
      "Data columns (total 5 columns):\n",
      " #   Column        Non-Null Count  Dtype  \n",
      "---  ------        --------------  -----  \n",
      " 0   sepal_length  150 non-null    float32\n",
      " 1   sepal_width   150 non-null    float32\n",
      " 2   petal_length  150 non-null    float32\n",
      " 3   petal_width   150 non-null    float32\n",
      " 4   species       150 non-null    object \n",
      "dtypes: float32(4), object(1)\n",
      "memory usage: 3.6+ KB\n",
      "None\n"
     ]
    }
   ],
   "source": [
    "print(iris_df.sample(5))\n",
    "print(iris_df.info())\n",
    "iris_df_versicolor = iris_df[iris_df.species == b'Iris-versicolor']\n"
   ]
  },
  {
   "cell_type": "code",
   "execution_count": 8,
   "metadata": {},
   "outputs": [
    {
     "data": {
      "text/plain": [
       "<Axes: >"
      ]
     },
     "execution_count": 8,
     "metadata": {},
     "output_type": "execute_result"
    }
   ],
   "source": [
    "\n",
    "iris_df_versicolor.head()\n",
    "# iris_df_versicolor.boxplot(column=\"sepal_length\")\n",
    "plt.boxplot(iris_df_versicolor.sepal_length)"
   ]
  },
  {
   "cell_type": "markdown",
   "metadata": {},
   "source": [
    "### 1D. Provide a short intrepretation of the data visualised by your 1C solution. (5 marks)\n"
   ]
  },
  {
   "cell_type": "markdown",
   "metadata": {},
   "source": [
    "'''Edit this markdown cell and write your comment on the data visualisation produced by 1C here...'''"
   ]
  },
  {
   "cell_type": "markdown",
   "metadata": {},
   "source": [
    "# Part 2 - Personal Project (out of 50 marks)\n",
    "In this second part of Assignment 2 you have the opportunity to perform some data analysis on a dataset of your choice. Choose a dataset or a scenario that interests you and provide an outline of the scenario, clean the dataset (if needed), perform some statistic analysis, visualise this data analysis and comment on what you see.   "
   ]
  },
  {
   "cell_type": "markdown",
   "metadata": {},
   "source": [
    "## [Provide a brief introduction to your dataset here] (5 marks)\n",
    "\n",
    "It would be good to briefly introduce your dataset here. You could also illustrate an overview of the column information, and a sample of rows from the database using some methods that we have looked at. "
   ]
  },
  {
   "cell_type": "code",
   "execution_count": null,
   "metadata": {},
   "outputs": [],
   "source": [
    "# Add setup code here - set the path to the chosen dataset, and import the relevant Python libraries."
   ]
  },
  {
   "cell_type": "code",
   "execution_count": null,
   "metadata": {},
   "outputs": [],
   "source": [
    "# Load in your data and display some descriptive statistics and commentary to provide a summary of the dataset."
   ]
  },
  {
   "cell_type": "markdown",
   "metadata": {
    "deletable": false,
    "editable": false
   },
   "source": [
    "## 1. [Choose and write a question here] (15 marks)\n",
    "### (e.g. What percentage of male and female passengers perished?)\n"
   ]
  },
  {
   "cell_type": "code",
   "execution_count": null,
   "metadata": {},
   "outputs": [],
   "source": [
    "# Add code here to answer this question"
   ]
  },
  {
   "cell_type": "markdown",
   "metadata": {},
   "source": [
    "## 2. [Choose and write a question here] (15 marks)\n",
    "### (e.g. Were people travelling alone more at risk?)"
   ]
  },
  {
   "cell_type": "code",
   "execution_count": null,
   "metadata": {},
   "outputs": [],
   "source": [
    "# Add code here to answer this question"
   ]
  },
  {
   "cell_type": "markdown",
   "metadata": {},
   "source": [
    "## 3. [Choose and write a question here] (15 marks)\n",
    "\n",
    "### (e.g. Did the port of departure affect the cost of the ticket?)"
   ]
  },
  {
   "cell_type": "code",
   "execution_count": null,
   "metadata": {},
   "outputs": [],
   "source": [
    "# Add code here to answer this question"
   ]
  }
 ],
 "metadata": {
  "kernelspec": {
   "display_name": "Python 3 (ipykernel)",
   "language": "python",
   "name": "python3"
  },
  "language_info": {
   "codemirror_mode": {
    "name": "ipython",
    "version": 3
   },
   "file_extension": ".py",
   "mimetype": "text/x-python",
   "name": "python",
   "nbconvert_exporter": "python",
   "pygments_lexer": "ipython3",
   "version": "3.11.5"
  },
  "vscode": {
   "interpreter": {
    "hash": "c24ecc2928a1df641fb89905a028e959d05eac4f79c1af53f0bb766b01409011"
   }
  }
 },
 "nbformat": 4,
 "nbformat_minor": 1
}
