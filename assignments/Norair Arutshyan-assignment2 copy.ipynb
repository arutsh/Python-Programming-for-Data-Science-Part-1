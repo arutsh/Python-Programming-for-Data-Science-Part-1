{
 "cells": [
  {
   "cell_type": "markdown",
   "metadata": {},
   "source": [
    "# Second Assignment: Exercise and a Personal Project"
   ]
  },
  {
   "cell_type": "markdown",
   "metadata": {},
   "source": [
    "In this second and final assignment you have the opportunity to choose a dataset and perform data analysis to answer the type of questions that interest you or will utilise a technique that you want to gain experience in. \n",
    "\n",
    "You may wish to select a dataset that we have already looked at (e.g. Titanic, or IMDB), or select another open-source dataset from Kaggle (or other). Once you've selected a dataset to investigate, proceed to complete the template cells below. In the markdown cells, you should provide a brief introduction to the dataset, and write the questions that you will investigate. Then use the code cells to answer the questions you select.\n",
    "\n",
    "### Logistics\n",
    "\n",
    "**Deadline.** Please see the Assessment deadline in specified in Canvas. Late submissions will not be accepted. This notebook is the Second of two Assignments for this course.\n",
    "\n",
    "**The Assignment Task.** This Second Assignment portfolio will account for the remaining 70 points of the 100 (Assignment 1 was worth 30 marks). This Second Assignment features two parts: \n",
    "* Part 1 is out of 20 marks, based on a defined set of problems. This will extend your application of numpy, pandas, and matplotlib on the iris dataset. \n",
    "* Part 2 is out of 50 marks, and requires you to perform exploratory data analysis on a dataset of your choice. You should start by selecting a dataset and acquiring the data. Describe the context of the dataset with commentary and descriptive statistics. Then you should choose three questions to ask of the dataset and then outline how to answer them. Where appropriate, seek to display the results with an appropriate plot.\n",
    "\n",
    "**Submission.** Please email your solutions and your completed Declaration of Authorship (DoA) form to weeklyclasses@conted.ox.ac.uk "
   ]
  },
  {
   "cell_type": "markdown",
   "metadata": {},
   "source": [
    "# Part 1 (Set Exercise) (out of 20 marks)\n",
    "\n",
    "In this first part of Assignment 2, you are asked to continue work on the Iris dataset and further utilise libraries such as NumPy, Pandas and Matplotlib."
   ]
  },
  {
   "cell_type": "markdown",
   "metadata": {},
   "source": [
    "### Set up cells"
   ]
  },
  {
   "cell_type": "code",
   "execution_count": 1,
   "metadata": {},
   "outputs": [],
   "source": [
    "## Let's import the libraries we are going to use later on\n",
    "import numpy as np\n",
    "import pandas as pd\n",
    "import matplotlib.pyplot as plt\n",
    "\n",
    "# Let's set the precision for NumPy and Pandas\n",
    "np.set_printoptions(precision=3)\n",
    "pd.options.display.float_format = '{:,.2f}'.format"
   ]
  },
  {
   "cell_type": "markdown",
   "metadata": {},
   "source": [
    "### Import iris dataset "
   ]
  },
  {
   "cell_type": "code",
   "execution_count": 2,
   "metadata": {},
   "outputs": [],
   "source": [
    "# Input:\n",
    "# Import iris keeping the text column intact\n",
    "url = 'https://archive.ics.uci.edu/ml/machine-learning-databases/iris/iris.data'\n",
    "iris = np.genfromtxt(url, delimiter=',', \n",
    "                     names=['sepal length', 'sepal width', 'petal length', 'petal width', 'species'],\n",
    "                     dtype=[np.float32, np.float32, np.float32, np.float32, '|S15']\n",
    ")"
   ]
  },
  {
   "cell_type": "markdown",
   "metadata": {},
   "source": [
    "### 1A. Produce some descriptive statistics for the iris dataset (5 marks)\n",
    "\n",
    "For example, display the count of records, mean, std, min, max and in addtion to the quartiles for each of the columns."
   ]
  },
  {
   "cell_type": "code",
   "execution_count": 3,
   "metadata": {},
   "outputs": [
    {
     "data": {
      "text/html": [
       "<div>\n",
       "<style scoped>\n",
       "    .dataframe tbody tr th:only-of-type {\n",
       "        vertical-align: middle;\n",
       "    }\n",
       "\n",
       "    .dataframe tbody tr th {\n",
       "        vertical-align: top;\n",
       "    }\n",
       "\n",
       "    .dataframe thead th {\n",
       "        text-align: right;\n",
       "    }\n",
       "</style>\n",
       "<table border=\"1\" class=\"dataframe\">\n",
       "  <thead>\n",
       "    <tr style=\"text-align: right;\">\n",
       "      <th></th>\n",
       "      <th>sepal_length</th>\n",
       "      <th>sepal_width</th>\n",
       "      <th>petal_length</th>\n",
       "      <th>petal_width</th>\n",
       "    </tr>\n",
       "  </thead>\n",
       "  <tbody>\n",
       "    <tr>\n",
       "      <th>count</th>\n",
       "      <td>150.00</td>\n",
       "      <td>150.00</td>\n",
       "      <td>150.00</td>\n",
       "      <td>150.00</td>\n",
       "    </tr>\n",
       "    <tr>\n",
       "      <th>mean</th>\n",
       "      <td>5.84</td>\n",
       "      <td>3.05</td>\n",
       "      <td>3.76</td>\n",
       "      <td>1.20</td>\n",
       "    </tr>\n",
       "    <tr>\n",
       "      <th>std</th>\n",
       "      <td>0.83</td>\n",
       "      <td>0.43</td>\n",
       "      <td>1.76</td>\n",
       "      <td>0.76</td>\n",
       "    </tr>\n",
       "    <tr>\n",
       "      <th>min</th>\n",
       "      <td>4.30</td>\n",
       "      <td>2.00</td>\n",
       "      <td>1.00</td>\n",
       "      <td>0.10</td>\n",
       "    </tr>\n",
       "    <tr>\n",
       "      <th>25%</th>\n",
       "      <td>5.10</td>\n",
       "      <td>2.80</td>\n",
       "      <td>1.60</td>\n",
       "      <td>0.30</td>\n",
       "    </tr>\n",
       "    <tr>\n",
       "      <th>50%</th>\n",
       "      <td>5.80</td>\n",
       "      <td>3.00</td>\n",
       "      <td>4.35</td>\n",
       "      <td>1.30</td>\n",
       "    </tr>\n",
       "    <tr>\n",
       "      <th>75%</th>\n",
       "      <td>6.40</td>\n",
       "      <td>3.30</td>\n",
       "      <td>5.10</td>\n",
       "      <td>1.80</td>\n",
       "    </tr>\n",
       "    <tr>\n",
       "      <th>max</th>\n",
       "      <td>7.90</td>\n",
       "      <td>4.40</td>\n",
       "      <td>6.90</td>\n",
       "      <td>2.50</td>\n",
       "    </tr>\n",
       "  </tbody>\n",
       "</table>\n",
       "</div>"
      ],
      "text/plain": [
       "       sepal_length  sepal_width  petal_length  petal_width\n",
       "count        150.00       150.00        150.00       150.00\n",
       "mean           5.84         3.05          3.76         1.20\n",
       "std            0.83         0.43          1.76         0.76\n",
       "min            4.30         2.00          1.00         0.10\n",
       "25%            5.10         2.80          1.60         0.30\n",
       "50%            5.80         3.00          4.35         1.30\n",
       "75%            6.40         3.30          5.10         1.80\n",
       "max            7.90         4.40          6.90         2.50"
      ]
     },
     "execution_count": 3,
     "metadata": {},
     "output_type": "execute_result"
    }
   ],
   "source": [
    "# Write your solution here.\n",
    "iris_df = pd.DataFrame(iris)\n",
    "iris_df.describe()"
   ]
  },
  {
   "cell_type": "markdown",
   "metadata": {},
   "source": [
    "### 1B. Calculate the maximum petal width for each species of flower (5 marks)"
   ]
  },
  {
   "cell_type": "code",
   "execution_count": 4,
   "metadata": {},
   "outputs": [
    {
     "data": {
      "text/plain": [
       "species\n",
       "b'Iris-setosa'       0.60\n",
       "b'Iris-versicolor'   1.80\n",
       "b'Iris-virginica'    2.50\n",
       "Name: petal_width, dtype: float32"
      ]
     },
     "execution_count": 4,
     "metadata": {},
     "output_type": "execute_result"
    }
   ],
   "source": [
    "# Write your solution here.\n",
    "\n",
    "iris_df.groupby(['species']).petal_width.max()\n"
   ]
  },
  {
   "cell_type": "markdown",
   "metadata": {},
   "source": [
    "### 1C. Data Visualisation (5 marks)\n",
    "\n",
    "Produce a boxplot for each of the four columns of the iris dataset (sepal_length, sepal_width, petal_length and petal_width) in addition to the volume column (if you completed Assignment 1)."
   ]
  },
  {
   "cell_type": "code",
   "execution_count": 5,
   "metadata": {},
   "outputs": [
    {
     "name": "stdout",
     "output_type": "stream",
     "text": [
      "    sepal_length  sepal_width  petal_length  petal_width             species\n",
      "69          5.60         2.50          3.90         1.10  b'Iris-versicolor'\n",
      "26          5.00         3.40          1.60         0.40      b'Iris-setosa'\n",
      "63          6.10         2.90          4.70         1.40  b'Iris-versicolor'\n",
      "19          5.10         3.80          1.50         0.30      b'Iris-setosa'\n",
      "32          5.20         4.10          1.50         0.10      b'Iris-setosa'\n",
      "<class 'pandas.core.frame.DataFrame'>\n",
      "RangeIndex: 150 entries, 0 to 149\n",
      "Data columns (total 5 columns):\n",
      " #   Column        Non-Null Count  Dtype  \n",
      "---  ------        --------------  -----  \n",
      " 0   sepal_length  150 non-null    float32\n",
      " 1   sepal_width   150 non-null    float32\n",
      " 2   petal_length  150 non-null    float32\n",
      " 3   petal_width   150 non-null    float32\n",
      " 4   species       150 non-null    object \n",
      "dtypes: float32(4), object(1)\n",
      "memory usage: 3.6+ KB\n",
      "None\n"
     ]
    }
   ],
   "source": [
    "print(iris_df.sample(5))\n",
    "print(iris_df.info())\n",
    "iris_df_versicolor = iris_df[iris_df.species == b'Iris-versicolor']\n",
    "iris_df_setosa = iris_df[iris_df.species == b'Iris-setosa']\n"
   ]
  },
  {
   "cell_type": "code",
   "execution_count": 6,
   "metadata": {},
   "outputs": [
    {
     "data": {
      "text/plain": [
       "{'whiskers': [<matplotlib.lines.Line2D at 0x7f944031ca50>,\n",
       "  <matplotlib.lines.Line2D at 0x7f944031d8d0>,\n",
       "  <matplotlib.lines.Line2D at 0x7f9440329f10>,\n",
       "  <matplotlib.lines.Line2D at 0x7f944032aad0>],\n",
       " 'caps': [<matplotlib.lines.Line2D at 0x7f94404de750>,\n",
       "  <matplotlib.lines.Line2D at 0x7f944031f2d0>,\n",
       "  <matplotlib.lines.Line2D at 0x7f944032b610>,\n",
       "  <matplotlib.lines.Line2D at 0x7f9440330110>],\n",
       " 'boxes': [<matplotlib.lines.Line2D at 0x7f94402facd0>,\n",
       "  <matplotlib.lines.Line2D at 0x7f9440329310>],\n",
       " 'medians': [<matplotlib.lines.Line2D at 0x7f944031fdd0>,\n",
       "  <matplotlib.lines.Line2D at 0x7f9440330b90>],\n",
       " 'fliers': [<matplotlib.lines.Line2D at 0x7f9440328910>,\n",
       "  <matplotlib.lines.Line2D at 0x7f94403316d0>],\n",
       " 'means': []}"
      ]
     },
     "execution_count": 6,
     "metadata": {},
     "output_type": "execute_result"
    },
    {
     "data": {
      "image/png": "[encoded data removed]",
      "text/plain": [
       "<Figure size 640x480 with 1 Axes>"
      ]
     },
     "metadata": {},
     "output_type": "display_data"
    }
   ],
   "source": [
    "\n",
    "iris_df_versicolor.head()\n",
    "# iris_df_versicolor.boxplot(column=\"sepal_length\")\n",
    "plt.boxplot([iris_df_versicolor.sepal_length, iris_df_setosa.sepal_length])"
   ]
  },
  {
   "cell_type": "markdown",
   "metadata": {},
   "source": [
    "### 1D. Provide a short intrepretation of the data visualised by your 1C solution. (5 marks)\n"
   ]
  },
  {
   "cell_type": "markdown",
   "metadata": {},
   "source": [
    "'''Edit this markdown cell and write your comment on the data visualisation produced by 1C here...'''"
   ]
  },
  {
   "cell_type": "markdown",
   "metadata": {},
   "source": [
    "# Part 2 - Personal Project (out of 50 marks)\n",
    "In this second part of Assignment 2 you have the opportunity to perform some data analysis on a dataset of your choice. Choose a dataset or a scenario that interests you and provide an outline of the scenario, clean the dataset (if needed), perform some statistic analysis, visualise this data analysis and comment on what you see.   "
   ]
  },
  {
   "cell_type": "markdown",
   "metadata": {},
   "source": [
    "## [Provide a brief introduction to your dataset here] (5 marks)\n",
    "\n",
    "It would be good to briefly introduce your dataset here. You could also illustrate an overview of the column information, and a sample of rows from the database using some methods that we have looked at. "
   ]
  },
  {
   "cell_type": "markdown",
   "metadata": {},
   "source": [
    "#### Population of countries between 1950 and 2020 dataset is from kaggle"
   ]
  },
  {
   "cell_type": "code",
   "execution_count": 35,
   "metadata": {},
   "outputs": [
    {
     "name": "stdout",
     "output_type": "stream",
     "text": [
      "<class 'pandas.core.frame.DataFrame'>\n",
      "RangeIndex: 4195 entries, 0 to 4194\n",
      "Data columns (total 14 columns):\n",
      " #   Column                          Non-Null Count  Dtype  \n",
      "---  ------                          --------------  -----  \n",
      " 0   Year                            4195 non-null   int64  \n",
      " 1   Country                         4195 non-null   object \n",
      " 2   Population                      4195 non-null   int64  \n",
      " 3   Yearly % Change                 4195 non-null   float64\n",
      " 4   Yearly Change                   4195 non-null   int64  \n",
      " 5   Migrants (net)                  3600 non-null   float64\n",
      " 6   Median Age                      3600 non-null   float64\n",
      " 7   Fertility Rate                  3600 non-null   float64\n",
      " 8   Density (P/Km²)                 4195 non-null   object \n",
      " 9   Urban Pop %                     4082 non-null   float64\n",
      " 10  Urban Population                4082 non-null   float64\n",
      " 11  Country's Share of World Pop %  4195 non-null   float64\n",
      " 12  World Population                4195 non-null   int64  \n",
      " 13  Country Global Rank             4195 non-null   int64  \n",
      "dtypes: float64(7), int64(5), object(2)\n",
      "memory usage: 459.0+ KB\n"
     ]
    }
   ],
   "source": [
    "# Add setup code here - set the path to the chosen dataset, and import the relevant Python libraries.\n",
    "#\n",
    "population = pd.read_csv('Population_from_1995_to_2020.csv')\n",
    "population.info()\n",
    "\n",
    "\n",
    "\n"
   ]
  },
  {
   "cell_type": "code",
   "execution_count": 45,
   "metadata": {},
   "outputs": [],
   "source": [
    "# clean up\n",
    "# change country object to str\n",
    "population['Country'] = population['Country'].astype(str)\n"
   ]
  },
  {
   "cell_type": "markdown",
   "metadata": {},
   "source": [
    "what was the population of south caucases countres: Armenia, Azerbaijan and Georgia, between 1980 to 2000. \n",
    "p.s. 10 years before and after collapse of USSR"
   ]
  },
  {
   "cell_type": "code",
   "execution_count": 50,
   "metadata": {},
   "outputs": [
    {
     "data": {
      "text/html": [
       "<div>\n",
       "<style scoped>\n",
       "    .dataframe tbody tr th:only-of-type {\n",
       "        vertical-align: middle;\n",
       "    }\n",
       "\n",
       "    .dataframe tbody tr th {\n",
       "        vertical-align: top;\n",
       "    }\n",
       "\n",
       "    .dataframe thead th {\n",
       "        text-align: right;\n",
       "    }\n",
       "</style>\n",
       "<table border=\"1\" class=\"dataframe\">\n",
       "  <thead>\n",
       "    <tr style=\"text-align: right;\">\n",
       "      <th></th>\n",
       "      <th>Year</th>\n",
       "      <th>Country</th>\n",
       "      <th>Population</th>\n",
       "      <th>Yearly % Change</th>\n",
       "      <th>Yearly Change</th>\n",
       "      <th>Migrants (net)</th>\n",
       "      <th>Median Age</th>\n",
       "      <th>Fertility Rate</th>\n",
       "      <th>Density (P/Km²)</th>\n",
       "      <th>Urban Pop %</th>\n",
       "      <th>Urban Population</th>\n",
       "      <th>Country's Share of World Pop %</th>\n",
       "      <th>World Population</th>\n",
       "      <th>Country Global Rank</th>\n",
       "    </tr>\n",
       "  </thead>\n",
       "  <tbody>\n",
       "    <tr>\n",
       "      <th>1614</th>\n",
       "      <td>1980</td>\n",
       "      <td>Azerbaijan</td>\n",
       "      <td>6150733</td>\n",
       "      <td>1.63</td>\n",
       "      <td>95320</td>\n",
       "      <td>-10,093.00</td>\n",
       "      <td>20.90</td>\n",
       "      <td>3.80</td>\n",
       "      <td>74</td>\n",
       "      <td>52.80</td>\n",
       "      <td>3,246,145.00</td>\n",
       "      <td>0.14</td>\n",
       "      <td>4458003514</td>\n",
       "      <td>84</td>\n",
       "    </tr>\n",
       "    <tr>\n",
       "      <th>2370</th>\n",
       "      <td>1980</td>\n",
       "      <td>Georgia</td>\n",
       "      <td>5017833</td>\n",
       "      <td>0.58</td>\n",
       "      <td>28839</td>\n",
       "      <td>-19,089.00</td>\n",
       "      <td>29.10</td>\n",
       "      <td>2.39</td>\n",
       "      <td>72</td>\n",
       "      <td>52.50</td>\n",
       "      <td>2,634,184.00</td>\n",
       "      <td>0.11</td>\n",
       "      <td>4458003514</td>\n",
       "      <td>93</td>\n",
       "    </tr>\n",
       "    <tr>\n",
       "      <th>2460</th>\n",
       "      <td>1980</td>\n",
       "      <td>Armenia</td>\n",
       "      <td>3099754</td>\n",
       "      <td>1.82</td>\n",
       "      <td>53399</td>\n",
       "      <td>3,443.00</td>\n",
       "      <td>23.50</td>\n",
       "      <td>2.60</td>\n",
       "      <td>109</td>\n",
       "      <td>66.00</td>\n",
       "      <td>2,047,372.00</td>\n",
       "      <td>0.07</td>\n",
       "      <td>4458003514</td>\n",
       "      <td>120</td>\n",
       "    </tr>\n",
       "    <tr>\n",
       "      <th>1613</th>\n",
       "      <td>1985</td>\n",
       "      <td>Azerbaijan</td>\n",
       "      <td>6666447</td>\n",
       "      <td>1.62</td>\n",
       "      <td>103143</td>\n",
       "      <td>-20,314.00</td>\n",
       "      <td>22.80</td>\n",
       "      <td>3.30</td>\n",
       "      <td>81</td>\n",
       "      <td>53.50</td>\n",
       "      <td>3,566,399.00</td>\n",
       "      <td>0.14</td>\n",
       "      <td>4870921740</td>\n",
       "      <td>84</td>\n",
       "    </tr>\n",
       "    <tr>\n",
       "      <th>2369</th>\n",
       "      <td>1985</td>\n",
       "      <td>Georgia</td>\n",
       "      <td>5211454</td>\n",
       "      <td>0.76</td>\n",
       "      <td>38724</td>\n",
       "      <td>-9,565.00</td>\n",
       "      <td>29.80</td>\n",
       "      <td>2.27</td>\n",
       "      <td>75</td>\n",
       "      <td>54.20</td>\n",
       "      <td>2,824,275.00</td>\n",
       "      <td>0.11</td>\n",
       "      <td>4870921740</td>\n",
       "      <td>95</td>\n",
       "    </tr>\n",
       "    <tr>\n",
       "      <th>2459</th>\n",
       "      <td>1985</td>\n",
       "      <td>Armenia</td>\n",
       "      <td>3335940</td>\n",
       "      <td>1.48</td>\n",
       "      <td>47237</td>\n",
       "      <td>-10,246.00</td>\n",
       "      <td>25.30</td>\n",
       "      <td>2.50</td>\n",
       "      <td>117</td>\n",
       "      <td>67.10</td>\n",
       "      <td>2,238,065.00</td>\n",
       "      <td>0.07</td>\n",
       "      <td>4870921740</td>\n",
       "      <td>119</td>\n",
       "    </tr>\n",
       "    <tr>\n",
       "      <th>2368</th>\n",
       "      <td>1990</td>\n",
       "      <td>Georgia</td>\n",
       "      <td>5410399</td>\n",
       "      <td>0.75</td>\n",
       "      <td>39789</td>\n",
       "      <td>-8,732.00</td>\n",
       "      <td>31.00</td>\n",
       "      <td>2.26</td>\n",
       "      <td>78</td>\n",
       "      <td>55.00</td>\n",
       "      <td>2,977,765.00</td>\n",
       "      <td>0.10</td>\n",
       "      <td>5327231061</td>\n",
       "      <td>97</td>\n",
       "    </tr>\n",
       "    <tr>\n",
       "      <th>1612</th>\n",
       "      <td>1990</td>\n",
       "      <td>Azerbaijan</td>\n",
       "      <td>7242761</td>\n",
       "      <td>1.67</td>\n",
       "      <td>115263</td>\n",
       "      <td>-32,314.00</td>\n",
       "      <td>24.10</td>\n",
       "      <td>3.20</td>\n",
       "      <td>88</td>\n",
       "      <td>53.70</td>\n",
       "      <td>3,892,911.00</td>\n",
       "      <td>0.14</td>\n",
       "      <td>5327231061</td>\n",
       "      <td>86</td>\n",
       "    </tr>\n",
       "    <tr>\n",
       "      <th>2458</th>\n",
       "      <td>1990</td>\n",
       "      <td>Armenia</td>\n",
       "      <td>3538171</td>\n",
       "      <td>1.18</td>\n",
       "      <td>40446</td>\n",
       "      <td>-13,506.00</td>\n",
       "      <td>27.20</td>\n",
       "      <td>2.60</td>\n",
       "      <td>124</td>\n",
       "      <td>67.40</td>\n",
       "      <td>2,385,458.00</td>\n",
       "      <td>0.07</td>\n",
       "      <td>5327231061</td>\n",
       "      <td>121</td>\n",
       "    </tr>\n",
       "    <tr>\n",
       "      <th>2457</th>\n",
       "      <td>1995</td>\n",
       "      <td>Armenia</td>\n",
       "      <td>3217348</td>\n",
       "      <td>-1.88</td>\n",
       "      <td>-64165</td>\n",
       "      <td>-99,258.00</td>\n",
       "      <td>29.40</td>\n",
       "      <td>2.38</td>\n",
       "      <td>113</td>\n",
       "      <td>66.10</td>\n",
       "      <td>2,125,290.00</td>\n",
       "      <td>0.06</td>\n",
       "      <td>5744212979</td>\n",
       "      <td>129</td>\n",
       "    </tr>\n",
       "    <tr>\n",
       "      <th>1611</th>\n",
       "      <td>1995</td>\n",
       "      <td>Azerbaijan</td>\n",
       "      <td>7775424</td>\n",
       "      <td>1.43</td>\n",
       "      <td>106533</td>\n",
       "      <td>-23,023.00</td>\n",
       "      <td>24.60</td>\n",
       "      <td>2.90</td>\n",
       "      <td>94</td>\n",
       "      <td>52.20</td>\n",
       "      <td>4,059,242.00</td>\n",
       "      <td>0.14</td>\n",
       "      <td>5744212979</td>\n",
       "      <td>86</td>\n",
       "    </tr>\n",
       "    <tr>\n",
       "      <th>2367</th>\n",
       "      <td>1995</td>\n",
       "      <td>Georgia</td>\n",
       "      <td>4976260</td>\n",
       "      <td>-1.66</td>\n",
       "      <td>-86828</td>\n",
       "      <td>-118,371.00</td>\n",
       "      <td>32.80</td>\n",
       "      <td>2.05</td>\n",
       "      <td>72</td>\n",
       "      <td>54.30</td>\n",
       "      <td>2,702,829.00</td>\n",
       "      <td>0.09</td>\n",
       "      <td>5744212979</td>\n",
       "      <td>106</td>\n",
       "    </tr>\n",
       "    <tr>\n",
       "      <th>2366</th>\n",
       "      <td>2000</td>\n",
       "      <td>Georgia</td>\n",
       "      <td>4362187</td>\n",
       "      <td>-2.60</td>\n",
       "      <td>-122815</td>\n",
       "      <td>-130,719.00</td>\n",
       "      <td>34.70</td>\n",
       "      <td>1.72</td>\n",
       "      <td>63</td>\n",
       "      <td>57.00</td>\n",
       "      <td>2,485,610.00</td>\n",
       "      <td>0.07</td>\n",
       "      <td>6143493823</td>\n",
       "      <td>117</td>\n",
       "    </tr>\n",
       "    <tr>\n",
       "      <th>1610</th>\n",
       "      <td>2000</td>\n",
       "      <td>Azerbaijan</td>\n",
       "      <td>8122741</td>\n",
       "      <td>0.88</td>\n",
       "      <td>69463</td>\n",
       "      <td>-22,370.00</td>\n",
       "      <td>25.60</td>\n",
       "      <td>2.25</td>\n",
       "      <td>98</td>\n",
       "      <td>51.40</td>\n",
       "      <td>4,173,974.00</td>\n",
       "      <td>0.13</td>\n",
       "      <td>6143493823</td>\n",
       "      <td>89</td>\n",
       "    </tr>\n",
       "    <tr>\n",
       "      <th>2456</th>\n",
       "      <td>2000</td>\n",
       "      <td>Armenia</td>\n",
       "      <td>3069591</td>\n",
       "      <td>-0.94</td>\n",
       "      <td>-29551</td>\n",
       "      <td>-44,775.00</td>\n",
       "      <td>30.60</td>\n",
       "      <td>1.75</td>\n",
       "      <td>108</td>\n",
       "      <td>64.70</td>\n",
       "      <td>1,984,990.00</td>\n",
       "      <td>0.05</td>\n",
       "      <td>6143493823</td>\n",
       "      <td>133</td>\n",
       "    </tr>\n",
       "  </tbody>\n",
       "</table>\n",
       "</div>"
      ],
      "text/plain": [
       "      Year     Country  Population  Yearly % Change  Yearly Change  \\\n",
       "1614  1980  Azerbaijan     6150733             1.63          95320   \n",
       "2370  1980     Georgia     5017833             0.58          28839   \n",
       "2460  1980     Armenia     3099754             1.82          53399   \n",
       "1613  1985  Azerbaijan     6666447             1.62         103143   \n",
       "2369  1985     Georgia     5211454             0.76          38724   \n",
       "2459  1985     Armenia     3335940             1.48          47237   \n",
       "2368  1990     Georgia     5410399             0.75          39789   \n",
       "1612  1990  Azerbaijan     7242761             1.67         115263   \n",
       "2458  1990     Armenia     3538171             1.18          40446   \n",
       "2457  1995     Armenia     3217348            -1.88         -64165   \n",
       "1611  1995  Azerbaijan     7775424             1.43         106533   \n",
       "2367  1995     Georgia     4976260            -1.66         -86828   \n",
       "2366  2000     Georgia     4362187            -2.60        -122815   \n",
       "1610  2000  Azerbaijan     8122741             0.88          69463   \n",
       "2456  2000     Armenia     3069591            -0.94         -29551   \n",
       "\n",
       "      Migrants (net)  Median Age  Fertility Rate Density (P/Km²)  Urban Pop %  \\\n",
       "1614      -10,093.00       20.90            3.80              74        52.80   \n",
       "2370      -19,089.00       29.10            2.39              72        52.50   \n",
       "2460        3,443.00       23.50            2.60             109        66.00   \n",
       "1613      -20,314.00       22.80            3.30              81        53.50   \n",
       "2369       -9,565.00       29.80            2.27              75        54.20   \n",
       "2459      -10,246.00       25.30            2.50             117        67.10   \n",
       "2368       -8,732.00       31.00            2.26              78        55.00   \n",
       "1612      -32,314.00       24.10            3.20              88        53.70   \n",
       "2458      -13,506.00       27.20            2.60             124        67.40   \n",
       "2457      -99,258.00       29.40            2.38             113        66.10   \n",
       "1611      -23,023.00       24.60            2.90              94        52.20   \n",
       "2367     -118,371.00       32.80            2.05              72        54.30   \n",
       "2366     -130,719.00       34.70            1.72              63        57.00   \n",
       "1610      -22,370.00       25.60            2.25              98        51.40   \n",
       "2456      -44,775.00       30.60            1.75             108        64.70   \n",
       "\n",
       "      Urban Population  Country's Share of World Pop %  World Population  \\\n",
       "1614      3,246,145.00                            0.14        4458003514   \n",
       "2370      2,634,184.00                            0.11        4458003514   \n",
       "2460      2,047,372.00                            0.07        4458003514   \n",
       "1613      3,566,399.00                            0.14        4870921740   \n",
       "2369      2,824,275.00                            0.11        4870921740   \n",
       "2459      2,238,065.00                            0.07        4870921740   \n",
       "2368      2,977,765.00                            0.10        5327231061   \n",
       "1612      3,892,911.00                            0.14        5327231061   \n",
       "2458      2,385,458.00                            0.07        5327231061   \n",
       "2457      2,125,290.00                            0.06        5744212979   \n",
       "1611      4,059,242.00                            0.14        5744212979   \n",
       "2367      2,702,829.00                            0.09        5744212979   \n",
       "2366      2,485,610.00                            0.07        6143493823   \n",
       "1610      4,173,974.00                            0.13        6143493823   \n",
       "2456      1,984,990.00                            0.05        6143493823   \n",
       "\n",
       "      Country Global Rank  \n",
       "1614                   84  \n",
       "2370                   93  \n",
       "2460                  120  \n",
       "1613                   84  \n",
       "2369                   95  \n",
       "2459                  119  \n",
       "2368                   97  \n",
       "1612                   86  \n",
       "2458                  121  \n",
       "2457                  129  \n",
       "1611                   86  \n",
       "2367                  106  \n",
       "2366                  117  \n",
       "1610                   89  \n",
       "2456                  133  "
      ]
     },
     "execution_count": 50,
     "metadata": {},
     "output_type": "execute_result"
    }
   ],
   "source": [
    "range_start = population.Year>=1980\n",
    "range_end = population.Year<=2000\n",
    "countries = ['Armenia', 'Azerbaijan', 'Georgia']\n",
    "countries_filter = population.Country.isin(countries)\n",
    "population_sc = population[range_start & range_end & countries_filter].sort_values(by='Year')\n",
    "population_sc"
   ]
  },
  {
   "cell_type": "code",
   "execution_count": 48,
   "metadata": {},
   "outputs": [
    {
     "name": "stdout",
     "output_type": "stream",
     "text": [
      "<class 'pandas.core.frame.DataFrame'>\n",
      "Index: 15 entries, 1610 to 2460\n",
      "Data columns (total 14 columns):\n",
      " #   Column                          Non-Null Count  Dtype  \n",
      "---  ------                          --------------  -----  \n",
      " 0   Year                            15 non-null     int64  \n",
      " 1   Country                         15 non-null     object \n",
      " 2   Population                      15 non-null     int64  \n",
      " 3   Yearly % Change                 15 non-null     float64\n",
      " 4   Yearly Change                   15 non-null     int64  \n",
      " 5   Migrants (net)                  15 non-null     float64\n",
      " 6   Median Age                      15 non-null     float64\n",
      " 7   Fertility Rate                  15 non-null     float64\n",
      " 8   Density (P/Km²)                 15 non-null     object \n",
      " 9   Urban Pop %                     15 non-null     float64\n",
      " 10  Urban Population                15 non-null     float64\n",
      " 11  Country's Share of World Pop %  15 non-null     float64\n",
      " 12  World Population                15 non-null     int64  \n",
      " 13  Country Global Rank             15 non-null     int64  \n",
      "dtypes: float64(7), int64(5), object(2)\n",
      "memory usage: 1.8+ KB\n"
     ]
    }
   ],
   "source": [
    "population_sc.info()"
   ]
  },
  {
   "cell_type": "markdown",
   "metadata": {},
   "source": [
    "### 1. what was the population  in each country between 1980 - 2000?"
   ]
  },
  {
   "cell_type": "code",
   "execution_count": 54,
   "metadata": {},
   "outputs": [
    {
     "data": {
      "text/plain": [
       "<matplotlib.legend.Legend at 0x7f943dce6d10>"
      ]
     },
     "execution_count": 54,
     "metadata": {},
     "output_type": "execute_result"
    },
    {
     "data": {
      "image/png": "[encoded data removed]",
      "text/plain": [
       "<Figure size 2000x1000 with 1 Axes>"
      ]
     },
     "metadata": {},
     "output_type": "display_data"
    }
   ],
   "source": [
    "# Load in your data and display some descriptive statistics and commentary to provide a summary of the dataset.\n",
    "import seaborn as sns\n",
    "\n",
    "fig,ax = plt.subplots(figsize=(20, 10))\n",
    "sns.despine()\n",
    "sns.set_context(\"notebook\", font_scale=1.5, rc={\"lines.linewidth\": 2})\n",
    "\n",
    "sns.barplot(x=\"Year\", y=\"Population\", data=population_sc, hue='Country')\n",
    "ax.set_ylabel(ylabel = 'Population in Million', fontsize = 12)\n",
    "ax.set_xlabel(xlabel = 'Year', fontsize = 12)\n",
    "ax.set_title('Population of South Caucasus between 1980-200')\n",
    "ax.legend()\n"
   ]
  },
  {
   "cell_type": "markdown",
   "metadata": {
    "deletable": false,
    "editable": false
   },
   "source": [
    "## 1. [Choose and write a question here] (15 marks)\n",
    "### (e.g. What percentage of male and female passengers perished?)\n"
   ]
  },
  {
   "cell_type": "code",
   "execution_count": null,
   "metadata": {},
   "outputs": [],
   "source": [
    "# Add code here to answer this question"
   ]
  },
  {
   "cell_type": "markdown",
   "metadata": {},
   "source": [
    "## 2. [Choose and write a question here] (15 marks)\n",
    "### (e.g. Were people travelling alone more at risk?)"
   ]
  },
  {
   "cell_type": "code",
   "execution_count": null,
   "metadata": {},
   "outputs": [],
   "source": [
    "# Add code here to answer this question"
   ]
  },
  {
   "cell_type": "markdown",
   "metadata": {},
   "source": [
    "## 3. [Choose and write a question here] (15 marks)\n",
    "\n",
    "### (e.g. Did the port of departure affect the cost of the ticket?)"
   ]
  },
  {
   "cell_type": "code",
   "execution_count": null,
   "metadata": {},
   "outputs": [],
   "source": [
    "# Add code here to answer this question"
   ]
  }
 ],
 "metadata": {
  "kernelspec": {
   "display_name": "Python 3 (ipykernel)",
   "language": "python",
   "name": "python3"
  },
  "language_info": {
   "codemirror_mode": {
    "name": "ipython",
    "version": 3
   },
   "file_extension": ".py",
   "mimetype": "text/x-python",
   "name": "python",
   "nbconvert_exporter": "python",
   "pygments_lexer": "ipython3",
   "version": "3.11.5"
  },
  "vscode": {
   "interpreter": {
    "hash": "c24ecc2928a1df641fb89905a028e959d05eac4f79c1af53f0bb766b01409011"
   }
  }
 },
 "nbformat": 4,
 "nbformat_minor": 1
}
